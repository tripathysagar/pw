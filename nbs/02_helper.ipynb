{
 "cells": [
  {
   "cell_type": "markdown",
   "metadata": {},
   "source": [
    "# helper\n",
    "\n",
    "> auxilary helper functions"
   ]
  },
  {
   "cell_type": "code",
   "execution_count": null,
   "metadata": {},
   "outputs": [],
   "source": [
    "#| default_exp helper"
   ]
  },
  {
   "cell_type": "code",
   "execution_count": null,
   "metadata": {},
   "outputs": [],
   "source": [
    "#| export \n",
    "from urllib.parse import urlparse, parse_qs\n",
    "import pandas as pd\n",
    "from io import StringIO\n",
    "from playwright.async_api import  Page, Locator\n",
    "from functools import partialmethod\n",
    "from html2text import HTML2Text\n",
    "from typing import Union\n",
    "from IPython.display import Markdown, display"
   ]
  },
  {
   "cell_type": "code",
   "execution_count": null,
   "metadata": {},
   "outputs": [],
   "source": [
    "#| hide\n",
    "#| export\n",
    "h2t = HTML2Text(bodywidth=20000)\n",
    "h2t.ignore_links = True\n",
    "h2t.mark_code = True\n",
    "h2t.ignore_images = True"
   ]
  },
  {
   "cell_type": "code",
   "execution_count": null,
   "metadata": {},
   "outputs": [],
   "source": [
    "#| hide\n",
    "from pw.core import *"
   ]
  },
  {
   "cell_type": "markdown",
   "metadata": {},
   "source": [
    "## View MD in `notebook`"
   ]
  },
  {
   "cell_type": "code",
   "execution_count": null,
   "metadata": {},
   "outputs": [],
   "source": [
    "#| export \n",
    "\n",
    "def print_md(s : str):\n",
    "    \"\"\"\n",
    "    Given a string display markdown in Notebook\n",
    "    \"\"\"\n",
    "    display(Markdown(s))"
   ]
  },
  {
   "cell_type": "markdown",
   "metadata": {},
   "source": [
    "## Extract table to dataframe"
   ]
  },
  {
   "cell_type": "code",
   "execution_count": null,
   "metadata": {},
   "outputs": [],
   "source": [
    "#| export\n",
    "\n",
    "async def table2df(table:Locator):\n",
    "    \"\"\"Given a html table element it extracts the table obj and convert it to pandas dataframe\"\"\"\n",
    "    try:\n",
    "        await table.wait_for(state='visible')\n",
    "        \n",
    "        table_html = await table.evaluate('element => element.outerHTML')\n",
    "        \n",
    "        df = pd.read_html(StringIO(table_html))[0]\n",
    "        return df\n",
    "        \n",
    "    except Exception as e:\n",
    "        print(f\"Error converting table to DataFrame: {e}\")\n",
    "        return None\n",
    "\n",
    "Locator.table2df = partialmethod(table2df)"
   ]
  },
  {
   "cell_type": "code",
   "execution_count": null,
   "metadata": {},
   "outputs": [
    {
     "data": {
      "text/html": [
       "<div>\n",
       "<style scoped>\n",
       "    .dataframe tbody tr th:only-of-type {\n",
       "        vertical-align: middle;\n",
       "    }\n",
       "\n",
       "    .dataframe tbody tr th {\n",
       "        vertical-align: top;\n",
       "    }\n",
       "\n",
       "    .dataframe thead th {\n",
       "        text-align: right;\n",
       "    }\n",
       "</style>\n",
       "<table border=\"1\" class=\"dataframe\">\n",
       "  <thead>\n",
       "    <tr style=\"text-align: right;\">\n",
       "      <th></th>\n",
       "      <th>Rank</th>\n",
       "      <th>Country</th>\n",
       "      <th>Companies</th>\n",
       "    </tr>\n",
       "  </thead>\n",
       "  <tbody>\n",
       "    <tr>\n",
       "      <th>0</th>\n",
       "      <td>1</td>\n",
       "      <td>United States of America</td>\n",
       "      <td>22</td>\n",
       "    </tr>\n",
       "    <tr>\n",
       "      <th>1</th>\n",
       "      <td>2</td>\n",
       "      <td>China</td>\n",
       "      <td>11</td>\n",
       "    </tr>\n",
       "    <tr>\n",
       "      <th>2</th>\n",
       "      <td>3</td>\n",
       "      <td>Germany</td>\n",
       "      <td>4</td>\n",
       "    </tr>\n",
       "    <tr>\n",
       "      <th>3</th>\n",
       "      <td>4</td>\n",
       "      <td>United Kingdom</td>\n",
       "      <td>2</td>\n",
       "    </tr>\n",
       "    <tr>\n",
       "      <th>4</th>\n",
       "      <td>4</td>\n",
       "      <td>Switzerland</td>\n",
       "      <td>2</td>\n",
       "    </tr>\n",
       "  </tbody>\n",
       "</table>\n",
       "</div>"
      ],
      "text/plain": [
       "   Rank                   Country  Companies\n",
       "0     1  United States of America         22\n",
       "1     2                     China         11\n",
       "2     3                   Germany          4\n",
       "3     4            United Kingdom          2\n",
       "4     4               Switzerland          2"
      ]
     },
     "execution_count": null,
     "metadata": {},
     "output_type": "execute_result"
    }
   ],
   "source": [
    "async with setup_browser(n=1) as obj:\n",
    "    if obj.is_valid:\n",
    "        page = obj.pages[0]\n",
    "        await page.goto(\"https://en.wikipedia.org/wiki/List_of_largest_companies_by_revenue\")\n",
    "        await page.wait()\n",
    "        ele = await page.find_ele('//table[@class=\"wikitable sortable plainrowheaders jquery-tablesorter\"]') \n",
    "        assert len(ele) != 0\n",
    "\n",
    "        df = await ele[0].table2df()\n",
    "        assert len(df) != 0\n",
    "\n",
    "df.head()"
   ]
  },
  {
   "cell_type": "markdown",
   "metadata": {},
   "source": [
    "## Extract html object to md"
   ]
  },
  {
   "cell_type": "code",
   "execution_count": null,
   "metadata": {},
   "outputs": [],
   "source": [
    "#| export\n",
    "\n",
    "async def h2md(ele : Union[Page, Locator]):\n",
    "    \"Convert HTML `h` to markdown using `HTML2Text\"\n",
    "\n",
    "    obj = await ele.inner_html() if isinstance(ele, Locator) else await ele.content() \n",
    "\n",
    "    return h2t.handle(str(obj))\n",
    "\n",
    "Page.h2md = partialmethod(h2md)\n",
    "Locator.h2md = partialmethod(h2md)"
   ]
  },
  {
   "cell_type": "code",
   "execution_count": null,
   "metadata": {},
   "outputs": [
    {
     "data": {
      "text/markdown": [
       "# Example Domain  \n",
       "  \n",
       "This domain is for use in illustrative examples in documents. You may use this domain in literature without prior coordination or asking for permission.\n",
       "\n",
       "More information...\n",
       "\n"
      ],
      "text/plain": [
       "<IPython.core.display.Markdown object>"
      ]
     },
     "metadata": {},
     "output_type": "display_data"
    }
   ],
   "source": [
    "async with setup_browser(n=1) as obj:\n",
    "    if obj.is_valid:\n",
    "        page = obj.pages[0]\n",
    "        await page.goto(\"https://example.com/\")\n",
    "        await page.wait()        \n",
    "        print_md(await page.h2md())"
   ]
  },
  {
   "cell_type": "code",
   "execution_count": null,
   "metadata": {},
   "outputs": [
    {
     "data": {
      "text/markdown": [
       "Breakdown by country  Rank  | Country  | Companies   \n",
       "1  |  United States of America | 22   \n",
       "2  |  China | 11   \n",
       "3  |  Germany | 4   \n",
       "4  |  United Kingdom | 2   \n",
       "4  |   Switzerland | 2   \n",
       "6  |  Japan | 1   \n",
       "6  |  France | 1   \n",
       "6  |  Italy | 1   \n",
       "6  |  India | 1   \n",
       "6  |  Netherlands | 1   \n",
       "6  |  South Korea | 1   \n",
       "6  |  Saudi Arabia | 1   \n",
       "6  |  Singapore | 1   \n",
       "6  |  Taiwan | 1 \n",
       "\n"
      ],
      "text/plain": [
       "<IPython.core.display.Markdown object>"
      ]
     },
     "metadata": {},
     "output_type": "display_data"
    }
   ],
   "source": [
    "async with setup_browser(n=1) as obj:\n",
    "    if obj.is_valid:\n",
    "        page = obj.pages[0]\n",
    "        await page.goto(\"https://en.wikipedia.org/wiki/List_of_largest_companies_by_revenue\")\n",
    "        await page.wait()\n",
    "        ele = await page.find_ele('//table[@class=\"wikitable sortable plainrowheaders jquery-tablesorter\"]') \n",
    "        print_md(await ele[0].h2md())"
   ]
  },
  {
   "cell_type": "markdown",
   "metadata": {},
   "source": [
    "## Domain helpers"
   ]
  },
  {
   "cell_type": "code",
   "execution_count": null,
   "metadata": {},
   "outputs": [],
   "source": [
    "#| export\n",
    "def domain(url:str): \n",
    "    \"\"\"\n",
    "    Extract domain i.e. netloc given a url\n",
    "    \"\"\"\n",
    "    return urlparse(url).netloc"
   ]
  },
  {
   "cell_type": "code",
   "execution_count": null,
   "metadata": {},
   "outputs": [],
   "source": [
    "urls = ['https://fast.ai/getting_started.html', 'https://fast.ai/getting_started.html#copyright', 'https://fast.ai/getting_started.html#year=2008-09&quarter=quarter1?a=3']\n",
    "assert domain(\"\") == \"\"\n",
    "assert domain(urls[0]) == 'fast.ai'"
   ]
  },
  {
   "cell_type": "code",
   "execution_count": null,
   "metadata": {},
   "outputs": [],
   "source": [
    "#| export \n",
    "\n",
    "def is_same_resource(url1: str, url2: str) -> bool:\n",
    "    \"\"\"\n",
    "    Takes in two urls and check if two url have any wuery param\n",
    "    \"\"\"\n",
    "    p1, p2= urlparse(url1), urlparse(url2)\n",
    "    \n",
    "    # Parse query and fragment parameters separately\n",
    "    q1, f1 = parse_qs(p1.query), parse_qs(p1.fragment)\n",
    "    q2, f2 = parse_qs(p2.query), parse_qs(p2.fragment)\n",
    "    \n",
    "    # Combine parameters\n",
    "    params1 = {**q1, **f1}\n",
    "    params2 = {**q2, **f2}\n",
    "    #print(f\"{q1=} {q2=} {f1=} {f2=}\")\n",
    "    has_quarter = ('quarter' in params1 or 'quarter' in params2)\n",
    "    \n",
    "    base_same = (\n",
    "        p1.scheme == p2.scheme and\n",
    "        p1.netloc == p2.netloc and\n",
    "        p1.path == p2.path\n",
    "    )\n",
    "    \n",
    "    return base_same and not has_quarter"
   ]
  },
  {
   "cell_type": "code",
   "execution_count": null,
   "metadata": {},
   "outputs": [],
   "source": [
    "assert is_same_resource(*urls[:-1])\n",
    "assert not is_same_resource(*urls[1:])"
   ]
  },
  {
   "cell_type": "code",
   "execution_count": null,
   "metadata": {},
   "outputs": [],
   "source": [
    "#| export\n",
    "import re\n",
    "\n",
    "def url2fn(url: str) -> str:\n",
    "    \"\"\"takes in a url and return a filename by substituting it with _.\"\"\"\n",
    "    # Remove scheme (http:// or https://)\n",
    "    url = url.split('://')[-1]\n",
    "    \n",
    "    fn = re.sub(r'[^a-zA-Z0-9]', '_', url)\n",
    "    fn = re.sub(r'_+', '_', fn)\n",
    "    fn = fn.strip('_')\n",
    "    \n",
    "    return fn"
   ]
  },
  {
   "cell_type": "code",
   "execution_count": null,
   "metadata": {},
   "outputs": [
    {
     "data": {
      "text/plain": [
       "['fast_ai_getting_started_html',\n",
       " 'fast_ai_getting_started_html_copyright',\n",
       " 'fast_ai_getting_started_html_year_2008_09_quarter_quarter1_a_3']"
      ]
     },
     "execution_count": null,
     "metadata": {},
     "output_type": "execute_result"
    }
   ],
   "source": [
    "[url2fn(i) for i in urls]"
   ]
  },
  {
   "cell_type": "code",
   "execution_count": null,
   "metadata": {},
   "outputs": [],
   "source": [
    "#| export\n",
    "IGNORE_EXT = ['.css', '.jpg', '.jpeg', '.png', '.gif', '.ico', '.js', '.svg', 'api']"
   ]
  },
  {
   "cell_type": "code",
   "execution_count": null,
   "metadata": {},
   "outputs": [],
   "source": [
    "#| hide \n",
    "#| export\n",
    "from graphviz import Digraph\n",
    "\n",
    "def _f():\n",
    "    dot = Digraph(comment='Crawler Flow')\n",
    "    dot.attr(rankdir='LR')  # Make the graph horizontal\n",
    "\n",
    "    # Create subgraph to force alignment\n",
    "    with dot.subgraph() as s:\n",
    "        s.attr(rank='same')  # Force nodes to same rank (level)\n",
    "        s.node('before', 'before_visit\\ncallback')\n",
    "        s.node('visit', 'one_visit')\n",
    "        s.node('after', 'after_visit\\ncallback')\n",
    "\n",
    "    # Add start/end nodes\n",
    "    dot.node('start', 'Start', shape='doublecircle')\n",
    "    dot.node('end', 'End', shape='doublecircle')\n",
    "\n",
    "    # Add edges\n",
    "    dot.edge('start', 'before')\n",
    "    dot.edge('before', 'visit')\n",
    "    dot.edge('visit', 'after')\n",
    "    dot.edge('after', 'end')\n",
    "    dot.edge('after', 'before', constraint='false',  curve_style='curved')\n",
    "    dot.render(\"flow\", format='png')\n",
    "#_f()"
   ]
  },
  {
   "cell_type": "code",
   "execution_count": null,
   "metadata": {},
   "outputs": [],
   "source": [
    "#| hide\n",
    "import nbdev; nbdev.nbdev_export()"
   ]
  },
  {
   "cell_type": "code",
   "execution_count": null,
   "metadata": {},
   "outputs": [],
   "source": []
  }
 ],
 "metadata": {
  "kernelspec": {
   "display_name": "python3",
   "language": "python",
   "name": "python3"
  }
 },
 "nbformat": 4,
 "nbformat_minor": 2
}
