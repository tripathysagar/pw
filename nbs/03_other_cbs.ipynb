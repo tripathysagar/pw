{
 "cells": [
  {
   "cell_type": "markdown",
   "metadata": {},
   "source": [
    "# other_cbs\n",
    "\n",
    "blah blah"
   ]
  },
  {
   "cell_type": "code",
   "execution_count": 3,
   "metadata": {},
   "outputs": [],
   "source": [
    "#| defult_export other_cbs"
   ]
  },
  {
   "cell_type": "code",
   "execution_count": 4,
   "metadata": {},
   "outputs": [],
   "source": [
    "from pw.core import *\n",
    "from pw.crawler import *\n",
    "from pw.helper import *"
   ]
  },
  {
   "cell_type": "code",
   "execution_count": 5,
   "metadata": {},
   "outputs": [],
   "source": [
    "def screener_url(t): return f\"https://www.screener.in/company/{t}/consolidated/\""
   ]
  },
  {
   "cell_type": "code",
   "execution_count": 6,
   "metadata": {},
   "outputs": [],
   "source": [
    "#| export\n",
    "class AnualReportCB(Callback):\n",
    "    \"\"\"\n",
    "    Callback helping traveling all the links available in the same domain.\n",
    "    \"\"\"\n",
    "    def __init__(self, tickets):\n",
    "        self.order = 1\n",
    "        self.links = {t : None for t in tickets}\n",
    "\n",
    "\n",
    "    async def  after_visit(self, crawler, idx):\n",
    "        \n",
    "        pg = crawler.pages[idx]\n",
    "        await pg.wait(10000)\n",
    "        show_more_ele = await pg.find_ele('//button[@class=\"a show-more-button\"]')\n",
    "        for i in show_more_ele:\n",
    "            await i.left_click()\n",
    "        #await pg.pause()\n",
    "        \n",
    "        annual_reports = await pg.find_ele('//div[@class=\"documents annual-reports flex-column\"]//child::a')\n",
    "\n",
    "        links = {(await tag.get_text()).split(\"from\")[0].strip() : await tag.get_attribute(\"href\") \n",
    "                      for tag in annual_reports if await tag.get_attribute(\"href\")}\n",
    "        \n",
    "\n",
    "        for i in list(self.links.keys()):\n",
    "            if i in pg.url:\n",
    "                break\n",
    "        self.links[i] = links\n"
   ]
  },
  {
   "cell_type": "code",
   "execution_count": 7,
   "metadata": {},
   "outputs": [],
   "source": [
    "t  = [\"TATAMOTORS\"]\n",
    "url = [screener_url(i) for i in t]\n",
    "C = Crawl(1, url, [AnualReportCB(t)])\n",
    "await C.run(headless=False, stealth= True,devtools=True )"
   ]
  },
  {
   "cell_type": "code",
   "execution_count": null,
   "metadata": {},
   "outputs": [],
   "source": [
    "C.cbs[0].links"
   ]
  },
  {
   "cell_type": "code",
   "execution_count": null,
   "metadata": {},
   "outputs": [],
   "source": [
    "class ConcallsCB(Callback):\n",
    "    \"\"\"\n",
    "    Callback helping traveling all the links available in the same domain.\n",
    "    \"\"\"\n",
    "    def __init__(self, tickets):\n",
    "        self.order = 2\n",
    "        self.trans_script = {t : None for t in tickets}\n",
    "        \n",
    "    async def  after_visit(self, crawler, idx):\n",
    "        \n",
    "        pg = crawler.pages[idx]\n",
    "        show_more_ele = await pg.find_ele('//button[@class=\"a show-more-button\"]')\n",
    "        for i in show_more_ele:\n",
    "            await i.left_click()\n",
    "        \n",
    "        n = len(await pg.find_ele('//div[@class=\"documents concalls flex-column\"]//child::li'))\n",
    "        dic = {}\n",
    "\n",
    "        for i in range(1, n+1):\n",
    "            label = await pg.find_ele(f'//div[@class=\"documents concalls flex-column\"]//child::li[{i}]//div[1]')\n",
    "            label = (await label[0].get_text()).strip()\n",
    "\n",
    "            trans = await pg.find_ele(f'//div[@class=\"documents concalls flex-column\"]//child::li[{i}]//a[contains(text(), \"Transcript\")]')\n",
    "\n",
    "            if trans is None: # fetch ppt if Transcript is not presnet\n",
    "                trans = await pg.find_ele(f'//div[@class=\"documents concalls flex-column\"]//child::li[{i}]//a[contains(text(), \"PPT\")]') \n",
    "            #print(label, trans)\n",
    "\n",
    "            dic[label] = await trans[0].get_attribute(\"href\")\n",
    "\n",
    "            print(dic)\n",
    "        \n",
    "        for i in list(self.trans_script.keys()):\n",
    "            if i in pg.url:\n",
    "                break\n",
    "        self.trans_script[i] = dic"
   ]
  },
  {
   "cell_type": "code",
   "execution_count": null,
   "metadata": {},
   "outputs": [],
   "source": [
    "t  = [\"TATAMOTORS\", \"ASHOKLEY\"]\n",
    "url = [screener_url(i) for i in t]\n",
    "C = Crawl(2, url, [AnualReportCB(t), ConcallsCB(t)])\n",
    "await C.run(headless=False, stealth= True,devtools=True )\n",
    "#C.cbs[1].trans_script['TATAMOTORS']\n"
   ]
  },
  {
   "cell_type": "code",
   "execution_count": null,
   "metadata": {},
   "outputs": [],
   "source": [
    "#| hide\n",
    "import nbdev; nbdev.nbdev_export()"
   ]
  }
 ],
 "metadata": {
  "kernelspec": {
   "display_name": "base",
   "language": "python",
   "name": "python3"
  },
  "language_info": {
   "codemirror_mode": {
    "name": "ipython",
    "version": 3
   },
   "file_extension": ".py",
   "mimetype": "text/x-python",
   "name": "python",
   "nbconvert_exporter": "python",
   "pygments_lexer": "ipython3",
   "version": "3.12.2"
  }
 },
 "nbformat": 4,
 "nbformat_minor": 2
}
