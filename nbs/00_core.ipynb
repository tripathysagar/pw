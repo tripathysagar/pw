{
 "cells": [
  {
   "cell_type": "markdown",
   "metadata": {},
   "source": [
    "# core\n",
    "\n",
    "> Various helper function for playwright"
   ]
  },
  {
   "cell_type": "code",
   "execution_count": 2,
   "metadata": {},
   "outputs": [],
   "source": [
    "#| default_exp core"
   ]
  },
  {
   "cell_type": "code",
   "execution_count": 25,
   "metadata": {},
   "outputs": [],
   "source": [
    "#| hide\n",
    "%load_ext autoreload\n",
    "%autoreload 2\n",
    "from nbdev.showdoc import *"
   ]
  },
  {
   "cell_type": "code",
   "execution_count": 3,
   "metadata": {},
   "outputs": [],
   "source": [
    "#| export\n",
    "from playwright.async_api import  *\n",
    "from playwright_stealth import stealth_async\n",
    "from typing import AsyncIterator, List, Tuple, Optional\n",
    "from contextlib import asynccontextmanager\n",
    "from dataclasses import dataclass\n",
    "from fastcore.all import *  # For delegates\n",
    "from fastcore.utils import *  # For log_args\n",
    "from fastcore.xtras import * \n",
    "import traceback\n",
    "from datetime import datetime\n",
    "from functools import partialmethod\n",
    "from html2text import HTML2Text"
   ]
  },
  {
   "cell_type": "code",
   "execution_count": 5,
   "metadata": {},
   "outputs": [],
   "source": [
    "#| export \n",
    "from functools import wraps\n",
    "import asyncio\n",
    "\n",
    "def retry_async(max_retries:int=3, backoff_base:float=1.5):\n",
    "    \"\"\"\n",
    "    Decorator for retrying an asynchronous function upon exception.\n",
    "    Retries the execution of an async function a specified number of times \n",
    "    (`max_retries`) with an exponential backoff delay between attempts (`backoff_base`).\n",
    "    If all attempts fail, the exception from the last attempt is raised.\n",
    "    \"\"\"\n",
    "    def _retry(func):\n",
    "        @wraps(func)\n",
    "        async def wrapper(*args, **kwargs):\n",
    "            for attempt in range(max_retries):\n",
    "                try: return await func(*args, **kwargs)\n",
    "                except Exception as e:\n",
    "                    if attempt == max_retries - 1: raise e\n",
    "                    await asyncio.sleep(backoff_base ** attempt)\n",
    "        return wrapper\n",
    "    return _retry"
   ]
  },
  {
   "cell_type": "markdown",
   "metadata": {},
   "source": [
    "## setup_browser\n",
    "Setup browser by opening up chrome and all the other objects"
   ]
  },
  {
   "cell_type": "code",
   "execution_count": 39,
   "metadata": {},
   "outputs": [],
   "source": [
    "#| export \n",
    "@dataclass\n",
    "class BrowserResources:\n",
    "    pw_obj: Optional[Playwright] = None\n",
    "    brow: Optional[Browser] = None\n",
    "    ctx: Optional[BrowserContext] = None\n",
    "    pages: List[Page] = None\n",
    "    is_valid: bool = False # for error handling\n",
    "\n",
    "class PageCreationError(Exception): pass #Raised when a page fails to be created\n",
    "class BrowserCleanupError(Exception): pass #Raised when browser resources fail to cleanup\n",
    "\n",
    "@asynccontextmanager\n",
    "async def setup_browser(*args, n: int = 1, stealth: bool = False, **kwargs) -> AsyncIterator[BrowserResources]:\n",
    "    \"\"\"Browser context manager returns n pages and stealth for mode\"\"\"\n",
    "    obj = BrowserResources()\n",
    "    try:\n",
    "        if n <= 0:\n",
    "            raise ValueError(f\"Invalid number of pages: {n}\")\n",
    "        \n",
    "        obj.pw_obj = await async_playwright().start()\n",
    "        obj.brow = await obj.pw_obj.chromium.launch(*args, **kwargs)\n",
    "        obj.ctx = await obj.brow.new_context(accept_downloads=True,\n",
    "                                             storage_state={'cookies': [], 'origins': []}\n",
    "                                             )\n",
    "        obj.pages = []\n",
    "        \n",
    "        for _ in range(n):\n",
    "            try:\n",
    "                pg = await obj.ctx.new_page()\n",
    "                if stealth: await stealth_async(pg)\n",
    "                obj.pages.append(pg)\n",
    "            except Exception as e:\n",
    "                raise PageCreationError(f\"Failed to create page {_}\")\n",
    "                \n",
    "        obj.is_valid = True\n",
    "        yield obj\n",
    "        \n",
    "    except Exception as e: raise e\n",
    "        \n",
    "    finally:\n",
    "        try:\n",
    "            if obj.pages:\n",
    "                for pg in obj.pages:\n",
    "                    await pg.close()\n",
    "            if obj.ctx: await obj.ctx.close()\n",
    "            if obj.brow: await obj.brow.close()\n",
    "            if obj.pw_obj: await obj.pw_obj.stop()\n",
    "        except Exception as e:\n",
    "            raise BrowserCleanupError(f\"Failed to cleanup browser resources: {str(e)}\")"
   ]
  },
  {
   "cell_type": "code",
   "execution_count": 40,
   "metadata": {},
   "outputs": [],
   "source": [
    "try:\n",
    "        async with setup_browser(n=0, stealth=False) as obj:\n",
    "                if obj.is_valid:\n",
    "                        ...\n",
    "except ValueError as e:\n",
    "        assert str(e) == \"Invalid number of pages: 0\""
   ]
  },
  {
   "cell_type": "code",
   "execution_count": 41,
   "metadata": {},
   "outputs": [],
   "source": [
    "async with setup_browser(n=1, stealth=False) as obj:\n",
    "        if obj.is_valid:\n",
    "            pg = await obj.pages[0].goto('http://example.org')\n",
    "            assert  pg.status == 200"
   ]
  },
  {
   "cell_type": "markdown",
   "metadata": {},
   "source": [
    "## Page's Monkey patching "
   ]
  },
  {
   "cell_type": "code",
   "execution_count": 42,
   "metadata": {},
   "outputs": [],
   "source": [
    "#| export\n",
    "async def _page_ready(page: Page, pause=50, timeout=5000):\n",
    "    \"\"\"Wait until main content of page is ready\"\"\"\n",
    "    await page.wait_for_load_state('domcontentloaded')\n",
    "    await page.wait_for_load_state('networkidle')\n",
    "    await page.wait_for_timeout(pause)\n",
    "    try: \n",
    "        await page.wait_for_selector('meta', state=\"attached\", timeout=timeout)\n",
    "    except TimeoutError:\n",
    "        pass\n",
    "\n",
    "async def _frames_ready(page: Page, pause=50, timeout=5000):\n",
    "    \"\"\"Wait until all visible frames are ready\"\"\"\n",
    "    iframes = await page.query_selector_all('iframe:visible')\n",
    "    if not iframes: \n",
    "        return\n",
    "    for iframe in iframes:\n",
    "        await iframe.wait_for_element_state('visible', timeout=timeout)\n",
    "        await page.wait_for_timeout(pause)\n",
    "        frame = await iframe.content_frame()\n",
    "        if frame:\n",
    "            await frame.wait_for_load_state('domcontentloaded', timeout=timeout)\n",
    "            await frame.wait_for_load_state('networkidle', timeout=timeout)\n",
    "\n",
    "async def wait_page(page: Page, pause=50, timeout=5000):\n",
    "    \"\"\"\n",
    "    moneky patching `Page.wait_page`.\n",
    "    Wait until page and frames are ready to be loaded\n",
    "    \"\"\"\n",
    "    await _page_ready(page, pause, timeout)\n",
    "    await _frames_ready(page, pause, timeout)\n",
    "\n",
    "Page.wait = partialmethod(wait_page)"
   ]
  },
  {
   "cell_type": "markdown",
   "metadata": {},
   "source": [
    "##  "
   ]
  },
  {
   "cell_type": "code",
   "execution_count": 43,
   "metadata": {},
   "outputs": [],
   "source": [
    "async with setup_browser(n=1, headless=True) as obj:\n",
    "        if obj.is_valid:\n",
    "                pg = await obj.pages[0].goto('http://example.org')\n",
    "                await obj.pages[0].wait_page()\n",
    "                assert  pg.status == 200"
   ]
  },
  {
   "cell_type": "code",
   "execution_count": 44,
   "metadata": {},
   "outputs": [],
   "source": [
    "#| export \n",
    "async def find_ele(page: Page, locator: str)->Optional[List[Locator]]:\n",
    "    \"\"\"\n",
    "    To locate elements on a web page using a given locator and return a list of those elements. \n",
    "    Logs error if the  `locator` object is not present and returns `None`.\n",
    "    \"\"\"\n",
    "    try:\n",
    "        elements = await page.locator(locator).all()\n",
    "        if elements: return elements\n",
    "        \n",
    "        raise ValueError(f\"Element not found.\")\n",
    "            \n",
    "    except Exception as e:\n",
    "        print(f\"Error find : @{page.url}  for {locator} :->  {e}  \")\n",
    "    return None\n",
    "\n",
    "Page.find_ele = partialmethod(find_ele)"
   ]
  },
  {
   "cell_type": "code",
   "execution_count": 45,
   "metadata": {},
   "outputs": [
    {
     "name": "stdout",
     "output_type": "stream",
     "text": [
      "Error find : @https://nbdev.fast.ai/  for //span[contains(text(), 'blah')] :->  Element not found.  \n"
     ]
    }
   ],
   "source": [
    "async with setup_browser(n=1, headless=True) as obj:\n",
    "    if obj.is_valid:\n",
    "        await obj.pages[0].goto('https://nbdev.fast.ai/')\n",
    "        await obj.pages[0].wait_page()\n",
    "        assert len(await obj.pages[0].find_ele(\"//span[contains(text(), 'Blog')]\") ) != 0\n",
    "        assert await obj.pages[0].find_ele(\"//span[contains(text(), 'blah')]\") is None"
   ]
  },
  {
   "cell_type": "code",
   "execution_count": 54,
   "metadata": {},
   "outputs": [],
   "source": [
    "#| export \n",
    "from  urllib.parse import unquote\n",
    "LINK_SELECTORS = {\n",
    "    'a': '[href]',\n",
    "    'iframe': '[src]',\n",
    "    'frame': '[src]',\n",
    "    'embed': '[src]',\n",
    "    'object': '[data]',\n",
    "    'img': '[src]',\n",
    "    'link': '[href]',\n",
    "    'script': '[src]',\n",
    "    'area': '[href]',\n",
    "    'video': '[src]'\n",
    "}\n",
    "async def find_all_links(page: Page):\n",
    "    \n",
    "    all_elements = page.locator(', '.join(LINK_SELECTORS))\n",
    "    \n",
    "    # Get attributes\n",
    "    links = await all_elements.evaluate_all('''\n",
    "        elements => elements.map(el => ({\n",
    "            type: el.tagName.toLowerCase(),\n",
    "            url: el.href || el.src || el.data || null\n",
    "        }))\n",
    "    ''')\n",
    "    return [unquote(dic['url']) for dic in links if dic['url'] ]\n",
    "\n",
    "Page.all_links = partialmethod(find_all_links)"
   ]
  },
  {
   "cell_type": "code",
   "execution_count": 55,
   "metadata": {},
   "outputs": [],
   "source": [
    "async with setup_browser(n=1, headless=True) as obj:\n",
    "        if obj.is_valid:\n",
    "            pg = obj.pages[0]\n",
    "            await pg.goto('https://nbdev.fast.ai/',timeout= 10000)\n",
    "            await pg.wait(10000)\n",
    "\n",
    "            links = await find_all_links(obj.pages[0])\n",
    "            assert type(links) == list"
   ]
  },
  {
   "cell_type": "markdown",
   "metadata": {},
   "source": [
    "## Locator's Monkey patching "
   ]
  },
  {
   "cell_type": "code",
   "execution_count": 47,
   "metadata": {},
   "outputs": [],
   "source": [
    "#| export \n",
    "async def left_click(element:Locator, timeout=5000):\n",
    "    \"\"\"for a given element it performs single click operation \"\"\"\n",
    "    try:\n",
    "        await element.wait_for(state='visible', timeout=timeout)\n",
    "        await element.scroll_into_view_if_needed() # Ensure element is clickable\n",
    "        await element.click()\n",
    "        return True\n",
    "    except Exception as e:\n",
    "        print(f\"Click attempt failed: {e}\")\n",
    "    return False\n",
    "Locator.left_click = partialmethod(left_click)"
   ]
  },
  {
   "cell_type": "code",
   "execution_count": 48,
   "metadata": {},
   "outputs": [],
   "source": [
    "url = 'https://solveit.fast.ai/'\n",
    "async with setup_browser(n=1, headless=False) as obj:\n",
    "    if obj.is_valid:\n",
    "        await obj.pages[0].goto(url)\n",
    "        await obj.pages[0].wait()\n",
    "        loc = await obj.pages[0].find_ele(\"//a[contains(text(), 'Course Details')]\") \n",
    "        assert len(loc) != 0\n",
    "                        \n",
    "        await loc[0].left_click()\n",
    "        assert url != obj.pages[0].url"
   ]
  },
  {
   "cell_type": "code",
   "execution_count": 50,
   "metadata": {},
   "outputs": [],
   "source": [
    "#| export \n",
    "async def enter_txt(element: Locator, text: str, timeout: int = 5000) -> bool:\n",
    "    \"\"\"For a given element of type `Locator`, it types the specified text\"\"\"\n",
    "    try:\n",
    "        await element.wait_for(state='visible', timeout=timeout)\n",
    "        await element.scroll_into_view_if_needed()\n",
    "        await element.focus()\n",
    "        await element.fill('')  # Clear existing text\n",
    "        await element.fill(text)\n",
    "        return True\n",
    "    except Exception as e:\n",
    "        print(f\"Type operation failed: {e}\")\n",
    "        return False\n",
    "\n",
    "Locator.enter_txt = partialmethod(enter_txt)"
   ]
  },
  {
   "cell_type": "code",
   "execution_count": 51,
   "metadata": {},
   "outputs": [],
   "source": [
    "async with setup_browser(n=1, headless=True) as obj:\n",
    "    if obj.is_valid:\n",
    "        await obj.pages[0].goto('https://nbdev.fast.ai/')\n",
    "        await obj.pages[0].wait()\n",
    "        loc = await obj.pages[0].find_ele(\"//button[1]\") \n",
    "        assert len(loc) != 0\n",
    "                        \n",
    "        await loc[0].left_click()\n",
    "        await obj.pages[0].wait()\n",
    "        inp =  await obj.pages[0].find_ele(\"//input\") \n",
    "        await inp[0].left_click()\n",
    "        await inp[0].enter_txt(\"type_text\")\n",
    "\n",
    "        assert  await inp[0].input_value() == \"type_text\""
   ]
  },
  {
   "cell_type": "code",
   "execution_count": 52,
   "metadata": {},
   "outputs": [],
   "source": [
    "#| export \n",
    "async def get_text(element: Locator, timeout: int = 5000) -> Optional[str]:\n",
    "    \"\"\"Gets the text content of an `Locator` element\"\"\"\n",
    "    try:\n",
    "        await element.wait_for(state='visible', timeout=timeout)\n",
    "        return await element.text_content()\n",
    "    except Exception as e:\n",
    "        print(f\"Get text failed: {e}\")\n",
    "        return None\n",
    "\n",
    "Locator.get_text = partialmethod(get_text)"
   ]
  },
  {
   "cell_type": "code",
   "execution_count": 53,
   "metadata": {},
   "outputs": [],
   "source": [
    "async with setup_browser(n=1, headless=True) as obj:\n",
    "    if obj.is_valid:\n",
    "        await obj.pages[0].goto('https://nbdev.fast.ai/')\n",
    "        await obj.pages[0].wait_page()\n",
    "        loc = await obj.pages[0].find_ele('//a[@role=\"button\"][1]') \n",
    "        assert len(loc) != 0\n",
    "                        \n",
    "        assert await loc[0].get_text() == \"Get started\""
   ]
  },
  {
   "cell_type": "code",
   "execution_count": 57,
   "metadata": {},
   "outputs": [
    {
     "ename": "JSONDecodeError",
     "evalue": "Expecting value: line 1 column 1 (char 0)",
     "output_type": "error",
     "traceback": [
      "\u001b[0;31m---------------------------------------------------------------------------\u001b[0m",
      "\u001b[0;31mJSONDecodeError\u001b[0m                           Traceback (most recent call last)",
      "Cell \u001b[0;32mIn[57], line 2\u001b[0m\n\u001b[1;32m      1\u001b[0m \u001b[38;5;66;03m#| hide\u001b[39;00m\n\u001b[0;32m----> 2\u001b[0m \u001b[38;5;28;01mimport\u001b[39;00m \u001b[38;5;21;01mnbdev\u001b[39;00m; nbdev\u001b[38;5;241m.\u001b[39mnbdev_export()\n",
      "File \u001b[0;32m~/miniconda3/lib/python3.12/site-packages/fastcore/script.py:112\u001b[0m, in \u001b[0;36mcall_parse.<locals>._f\u001b[0;34m(*args, **kwargs)\u001b[0m\n\u001b[1;32m    109\u001b[0m \u001b[38;5;129m@wraps\u001b[39m(func)\n\u001b[1;32m    110\u001b[0m \u001b[38;5;28;01mdef\u001b[39;00m \u001b[38;5;21m_f\u001b[39m(\u001b[38;5;241m*\u001b[39margs, \u001b[38;5;241m*\u001b[39m\u001b[38;5;241m*\u001b[39mkwargs):\n\u001b[1;32m    111\u001b[0m     mod \u001b[38;5;241m=\u001b[39m inspect\u001b[38;5;241m.\u001b[39mgetmodule(inspect\u001b[38;5;241m.\u001b[39mcurrentframe()\u001b[38;5;241m.\u001b[39mf_back)\n\u001b[0;32m--> 112\u001b[0m     \u001b[38;5;28;01mif\u001b[39;00m \u001b[38;5;129;01mnot\u001b[39;00m mod: \u001b[38;5;28;01mreturn\u001b[39;00m \u001b[43mfunc\u001b[49m\u001b[43m(\u001b[49m\u001b[38;5;241;43m*\u001b[39;49m\u001b[43margs\u001b[49m\u001b[43m,\u001b[49m\u001b[43m \u001b[49m\u001b[38;5;241;43m*\u001b[39;49m\u001b[38;5;241;43m*\u001b[39;49m\u001b[43mkwargs\u001b[49m\u001b[43m)\u001b[49m\n\u001b[1;32m    113\u001b[0m     \u001b[38;5;28;01mif\u001b[39;00m \u001b[38;5;129;01mnot\u001b[39;00m SCRIPT_INFO\u001b[38;5;241m.\u001b[39mfunc \u001b[38;5;129;01mand\u001b[39;00m mod\u001b[38;5;241m.\u001b[39m\u001b[38;5;18m__name__\u001b[39m\u001b[38;5;241m==\u001b[39m\u001b[38;5;124m\"\u001b[39m\u001b[38;5;124m__main__\u001b[39m\u001b[38;5;124m\"\u001b[39m: SCRIPT_INFO\u001b[38;5;241m.\u001b[39mfunc \u001b[38;5;241m=\u001b[39m func\u001b[38;5;241m.\u001b[39m\u001b[38;5;18m__name__\u001b[39m\n\u001b[1;32m    114\u001b[0m     \u001b[38;5;28;01mif\u001b[39;00m \u001b[38;5;28mlen\u001b[39m(sys\u001b[38;5;241m.\u001b[39margv)\u001b[38;5;241m>\u001b[39m\u001b[38;5;241m1\u001b[39m \u001b[38;5;129;01mand\u001b[39;00m sys\u001b[38;5;241m.\u001b[39margv[\u001b[38;5;241m1\u001b[39m]\u001b[38;5;241m==\u001b[39m\u001b[38;5;124m'\u001b[39m\u001b[38;5;124m'\u001b[39m: sys\u001b[38;5;241m.\u001b[39margv\u001b[38;5;241m.\u001b[39mpop(\u001b[38;5;241m1\u001b[39m)\n",
      "File \u001b[0;32m~/miniconda3/lib/python3.12/site-packages/nbdev/doclinks.py:155\u001b[0m, in \u001b[0;36mnbdev_export\u001b[0;34m(path, procs, **kwargs)\u001b[0m\n\u001b[1;32m    153\u001b[0m     procs \u001b[38;5;241m=\u001b[39m [\u001b[38;5;28mgetattr\u001b[39m(nbdev\u001b[38;5;241m.\u001b[39mexport, p) \u001b[38;5;28;01mfor\u001b[39;00m p \u001b[38;5;129;01min\u001b[39;00m L(procs)]\n\u001b[1;32m    154\u001b[0m files \u001b[38;5;241m=\u001b[39m nbglob(path\u001b[38;5;241m=\u001b[39mpath, as_path\u001b[38;5;241m=\u001b[39m\u001b[38;5;28;01mTrue\u001b[39;00m, \u001b[38;5;241m*\u001b[39m\u001b[38;5;241m*\u001b[39mkwargs)\u001b[38;5;241m.\u001b[39msorted(\u001b[38;5;124m'\u001b[39m\u001b[38;5;124mname\u001b[39m\u001b[38;5;124m'\u001b[39m)\n\u001b[0;32m--> 155\u001b[0m \u001b[38;5;28;01mfor\u001b[39;00m f \u001b[38;5;129;01min\u001b[39;00m files: \u001b[43mnb_export\u001b[49m\u001b[43m(\u001b[49m\u001b[43mf\u001b[49m\u001b[43m,\u001b[49m\u001b[43m \u001b[49m\u001b[43mprocs\u001b[49m\u001b[38;5;241;43m=\u001b[39;49m\u001b[43mprocs\u001b[49m\u001b[43m)\u001b[49m\n\u001b[1;32m    156\u001b[0m add_init(get_config()\u001b[38;5;241m.\u001b[39mlib_path)\n\u001b[1;32m    157\u001b[0m _build_modidx()\n",
      "File \u001b[0;32m~/miniconda3/lib/python3.12/site-packages/nbdev/export.py:80\u001b[0m, in \u001b[0;36mnb_export\u001b[0;34m(nbname, lib_path, procs, name, mod_maker, debug)\u001b[0m\n\u001b[1;32m     78\u001b[0m \u001b[38;5;28;01mif\u001b[39;00m lib_path \u001b[38;5;129;01mis\u001b[39;00m \u001b[38;5;28;01mNone\u001b[39;00m: lib_path \u001b[38;5;241m=\u001b[39m get_config()\u001b[38;5;241m.\u001b[39mlib_path \u001b[38;5;28;01mif\u001b[39;00m is_nbdev() \u001b[38;5;28;01melse\u001b[39;00m \u001b[38;5;124m'\u001b[39m\u001b[38;5;124m.\u001b[39m\u001b[38;5;124m'\u001b[39m\n\u001b[1;32m     79\u001b[0m exp \u001b[38;5;241m=\u001b[39m ExportModuleProc()\n\u001b[0;32m---> 80\u001b[0m nb \u001b[38;5;241m=\u001b[39m \u001b[43mNBProcessor\u001b[49m\u001b[43m(\u001b[49m\u001b[43mnbname\u001b[49m\u001b[43m,\u001b[49m\u001b[43m \u001b[49m\u001b[43m[\u001b[49m\u001b[43mexp\u001b[49m\u001b[43m]\u001b[49m\u001b[38;5;241;43m+\u001b[39;49m\u001b[43mL\u001b[49m\u001b[43m(\u001b[49m\u001b[43mprocs\u001b[49m\u001b[43m)\u001b[49m\u001b[43m,\u001b[49m\u001b[43m \u001b[49m\u001b[43mdebug\u001b[49m\u001b[38;5;241;43m=\u001b[39;49m\u001b[43mdebug\u001b[49m\u001b[43m)\u001b[49m\n\u001b[1;32m     81\u001b[0m nb\u001b[38;5;241m.\u001b[39mprocess()\n\u001b[1;32m     82\u001b[0m \u001b[38;5;28;01mfor\u001b[39;00m mod,cells \u001b[38;5;129;01min\u001b[39;00m exp\u001b[38;5;241m.\u001b[39mmodules\u001b[38;5;241m.\u001b[39mitems():\n",
      "File \u001b[0;32m~/miniconda3/lib/python3.12/site-packages/nbdev/process.py:95\u001b[0m, in \u001b[0;36mNBProcessor.__init__\u001b[0;34m(self, path, procs, nb, debug, rm_directives, process)\u001b[0m\n\u001b[1;32m     94\u001b[0m \u001b[38;5;28;01mdef\u001b[39;00m \u001b[38;5;21m__init__\u001b[39m(\u001b[38;5;28mself\u001b[39m, path\u001b[38;5;241m=\u001b[39m\u001b[38;5;28;01mNone\u001b[39;00m, procs\u001b[38;5;241m=\u001b[39m\u001b[38;5;28;01mNone\u001b[39;00m, nb\u001b[38;5;241m=\u001b[39m\u001b[38;5;28;01mNone\u001b[39;00m, debug\u001b[38;5;241m=\u001b[39m\u001b[38;5;28;01mFalse\u001b[39;00m, rm_directives\u001b[38;5;241m=\u001b[39m\u001b[38;5;28;01mTrue\u001b[39;00m, process\u001b[38;5;241m=\u001b[39m\u001b[38;5;28;01mFalse\u001b[39;00m):\n\u001b[0;32m---> 95\u001b[0m     \u001b[38;5;28mself\u001b[39m\u001b[38;5;241m.\u001b[39mnb \u001b[38;5;241m=\u001b[39m \u001b[43mread_nb\u001b[49m\u001b[43m(\u001b[49m\u001b[43mpath\u001b[49m\u001b[43m)\u001b[49m \u001b[38;5;28;01mif\u001b[39;00m nb \u001b[38;5;129;01mis\u001b[39;00m \u001b[38;5;28;01mNone\u001b[39;00m \u001b[38;5;28;01melse\u001b[39;00m nb\n\u001b[1;32m     96\u001b[0m     \u001b[38;5;28mself\u001b[39m\u001b[38;5;241m.\u001b[39mlang \u001b[38;5;241m=\u001b[39m nb_lang(\u001b[38;5;28mself\u001b[39m\u001b[38;5;241m.\u001b[39mnb)\n\u001b[1;32m     97\u001b[0m     \u001b[38;5;28;01mfor\u001b[39;00m cell \u001b[38;5;129;01min\u001b[39;00m \u001b[38;5;28mself\u001b[39m\u001b[38;5;241m.\u001b[39mnb\u001b[38;5;241m.\u001b[39mcells: cell\u001b[38;5;241m.\u001b[39mdirectives_ \u001b[38;5;241m=\u001b[39m extract_directives(cell, remove\u001b[38;5;241m=\u001b[39mrm_directives, lang\u001b[38;5;241m=\u001b[39m\u001b[38;5;28mself\u001b[39m\u001b[38;5;241m.\u001b[39mlang)\n",
      "File \u001b[0;32m~/miniconda3/lib/python3.12/site-packages/execnb/nbio.py:57\u001b[0m, in \u001b[0;36mread_nb\u001b[0;34m(path)\u001b[0m\n\u001b[1;32m     55\u001b[0m \u001b[38;5;28;01mdef\u001b[39;00m \u001b[38;5;21mread_nb\u001b[39m(path):\n\u001b[1;32m     56\u001b[0m     \u001b[38;5;124m\"\u001b[39m\u001b[38;5;124mReturn notebook at `path`\u001b[39m\u001b[38;5;124m\"\u001b[39m\n\u001b[0;32m---> 57\u001b[0m     res \u001b[38;5;241m=\u001b[39m dict2nb(\u001b[43m_read_json\u001b[49m\u001b[43m(\u001b[49m\u001b[43mpath\u001b[49m\u001b[43m,\u001b[49m\u001b[43m \u001b[49m\u001b[43mencoding\u001b[49m\u001b[38;5;241;43m=\u001b[39;49m\u001b[38;5;124;43m'\u001b[39;49m\u001b[38;5;124;43mutf-8\u001b[39;49m\u001b[38;5;124;43m'\u001b[39;49m\u001b[43m)\u001b[49m)\n\u001b[1;32m     58\u001b[0m     res[\u001b[38;5;124m'\u001b[39m\u001b[38;5;124mpath_\u001b[39m\u001b[38;5;124m'\u001b[39m] \u001b[38;5;241m=\u001b[39m \u001b[38;5;28mstr\u001b[39m(path)\n\u001b[1;32m     59\u001b[0m     \u001b[38;5;28;01mreturn\u001b[39;00m res\n",
      "File \u001b[0;32m~/miniconda3/lib/python3.12/site-packages/execnb/nbio.py:16\u001b[0m, in \u001b[0;36m_read_json\u001b[0;34m(self, encoding, errors)\u001b[0m\n\u001b[1;32m     15\u001b[0m \u001b[38;5;28;01mdef\u001b[39;00m \u001b[38;5;21m_read_json\u001b[39m(\u001b[38;5;28mself\u001b[39m, encoding\u001b[38;5;241m=\u001b[39m\u001b[38;5;28;01mNone\u001b[39;00m, errors\u001b[38;5;241m=\u001b[39m\u001b[38;5;28;01mNone\u001b[39;00m):\n\u001b[0;32m---> 16\u001b[0m     \u001b[38;5;28;01mreturn\u001b[39;00m \u001b[43mloads\u001b[49m\u001b[43m(\u001b[49m\u001b[43mPath\u001b[49m\u001b[43m(\u001b[49m\u001b[38;5;28;43mself\u001b[39;49m\u001b[43m)\u001b[49m\u001b[38;5;241;43m.\u001b[39;49m\u001b[43mread_text\u001b[49m\u001b[43m(\u001b[49m\u001b[43mencoding\u001b[49m\u001b[38;5;241;43m=\u001b[39;49m\u001b[43mencoding\u001b[49m\u001b[43m,\u001b[49m\u001b[43m \u001b[49m\u001b[43merrors\u001b[49m\u001b[38;5;241;43m=\u001b[39;49m\u001b[43merrors\u001b[49m\u001b[43m)\u001b[49m\u001b[43m)\u001b[49m\n",
      "File \u001b[0;32m~/miniconda3/lib/python3.12/json/__init__.py:346\u001b[0m, in \u001b[0;36mloads\u001b[0;34m(s, cls, object_hook, parse_float, parse_int, parse_constant, object_pairs_hook, **kw)\u001b[0m\n\u001b[1;32m    341\u001b[0m     s \u001b[38;5;241m=\u001b[39m s\u001b[38;5;241m.\u001b[39mdecode(detect_encoding(s), \u001b[38;5;124m'\u001b[39m\u001b[38;5;124msurrogatepass\u001b[39m\u001b[38;5;124m'\u001b[39m)\n\u001b[1;32m    343\u001b[0m \u001b[38;5;28;01mif\u001b[39;00m (\u001b[38;5;28mcls\u001b[39m \u001b[38;5;129;01mis\u001b[39;00m \u001b[38;5;28;01mNone\u001b[39;00m \u001b[38;5;129;01mand\u001b[39;00m object_hook \u001b[38;5;129;01mis\u001b[39;00m \u001b[38;5;28;01mNone\u001b[39;00m \u001b[38;5;129;01mand\u001b[39;00m\n\u001b[1;32m    344\u001b[0m         parse_int \u001b[38;5;129;01mis\u001b[39;00m \u001b[38;5;28;01mNone\u001b[39;00m \u001b[38;5;129;01mand\u001b[39;00m parse_float \u001b[38;5;129;01mis\u001b[39;00m \u001b[38;5;28;01mNone\u001b[39;00m \u001b[38;5;129;01mand\u001b[39;00m\n\u001b[1;32m    345\u001b[0m         parse_constant \u001b[38;5;129;01mis\u001b[39;00m \u001b[38;5;28;01mNone\u001b[39;00m \u001b[38;5;129;01mand\u001b[39;00m object_pairs_hook \u001b[38;5;129;01mis\u001b[39;00m \u001b[38;5;28;01mNone\u001b[39;00m \u001b[38;5;129;01mand\u001b[39;00m \u001b[38;5;129;01mnot\u001b[39;00m kw):\n\u001b[0;32m--> 346\u001b[0m     \u001b[38;5;28;01mreturn\u001b[39;00m \u001b[43m_default_decoder\u001b[49m\u001b[38;5;241;43m.\u001b[39;49m\u001b[43mdecode\u001b[49m\u001b[43m(\u001b[49m\u001b[43ms\u001b[49m\u001b[43m)\u001b[49m\n\u001b[1;32m    347\u001b[0m \u001b[38;5;28;01mif\u001b[39;00m \u001b[38;5;28mcls\u001b[39m \u001b[38;5;129;01mis\u001b[39;00m \u001b[38;5;28;01mNone\u001b[39;00m:\n\u001b[1;32m    348\u001b[0m     \u001b[38;5;28mcls\u001b[39m \u001b[38;5;241m=\u001b[39m JSONDecoder\n",
      "File \u001b[0;32m~/miniconda3/lib/python3.12/json/decoder.py:337\u001b[0m, in \u001b[0;36mJSONDecoder.decode\u001b[0;34m(self, s, _w)\u001b[0m\n\u001b[1;32m    332\u001b[0m \u001b[38;5;28;01mdef\u001b[39;00m \u001b[38;5;21mdecode\u001b[39m(\u001b[38;5;28mself\u001b[39m, s, _w\u001b[38;5;241m=\u001b[39mWHITESPACE\u001b[38;5;241m.\u001b[39mmatch):\n\u001b[1;32m    333\u001b[0m \u001b[38;5;250m    \u001b[39m\u001b[38;5;124;03m\"\"\"Return the Python representation of ``s`` (a ``str`` instance\u001b[39;00m\n\u001b[1;32m    334\u001b[0m \u001b[38;5;124;03m    containing a JSON document).\u001b[39;00m\n\u001b[1;32m    335\u001b[0m \n\u001b[1;32m    336\u001b[0m \u001b[38;5;124;03m    \"\"\"\u001b[39;00m\n\u001b[0;32m--> 337\u001b[0m     obj, end \u001b[38;5;241m=\u001b[39m \u001b[38;5;28;43mself\u001b[39;49m\u001b[38;5;241;43m.\u001b[39;49m\u001b[43mraw_decode\u001b[49m\u001b[43m(\u001b[49m\u001b[43ms\u001b[49m\u001b[43m,\u001b[49m\u001b[43m \u001b[49m\u001b[43midx\u001b[49m\u001b[38;5;241;43m=\u001b[39;49m\u001b[43m_w\u001b[49m\u001b[43m(\u001b[49m\u001b[43ms\u001b[49m\u001b[43m,\u001b[49m\u001b[43m \u001b[49m\u001b[38;5;241;43m0\u001b[39;49m\u001b[43m)\u001b[49m\u001b[38;5;241;43m.\u001b[39;49m\u001b[43mend\u001b[49m\u001b[43m(\u001b[49m\u001b[43m)\u001b[49m\u001b[43m)\u001b[49m\n\u001b[1;32m    338\u001b[0m     end \u001b[38;5;241m=\u001b[39m _w(s, end)\u001b[38;5;241m.\u001b[39mend()\n\u001b[1;32m    339\u001b[0m     \u001b[38;5;28;01mif\u001b[39;00m end \u001b[38;5;241m!=\u001b[39m \u001b[38;5;28mlen\u001b[39m(s):\n",
      "File \u001b[0;32m~/miniconda3/lib/python3.12/json/decoder.py:355\u001b[0m, in \u001b[0;36mJSONDecoder.raw_decode\u001b[0;34m(self, s, idx)\u001b[0m\n\u001b[1;32m    353\u001b[0m     obj, end \u001b[38;5;241m=\u001b[39m \u001b[38;5;28mself\u001b[39m\u001b[38;5;241m.\u001b[39mscan_once(s, idx)\n\u001b[1;32m    354\u001b[0m \u001b[38;5;28;01mexcept\u001b[39;00m \u001b[38;5;167;01mStopIteration\u001b[39;00m \u001b[38;5;28;01mas\u001b[39;00m err:\n\u001b[0;32m--> 355\u001b[0m     \u001b[38;5;28;01mraise\u001b[39;00m JSONDecodeError(\u001b[38;5;124m\"\u001b[39m\u001b[38;5;124mExpecting value\u001b[39m\u001b[38;5;124m\"\u001b[39m, s, err\u001b[38;5;241m.\u001b[39mvalue) \u001b[38;5;28;01mfrom\u001b[39;00m \u001b[38;5;28;01mNone\u001b[39;00m\n\u001b[1;32m    356\u001b[0m \u001b[38;5;28;01mreturn\u001b[39;00m obj, end\n",
      "\u001b[0;31mJSONDecodeError\u001b[0m: Expecting value: line 1 column 1 (char 0)"
     ]
    }
   ],
   "source": [
    "#| hide\n",
    "import nbdev; nbdev.nbdev_export()"
   ]
  },
  {
   "cell_type": "code",
   "execution_count": null,
   "metadata": {},
   "outputs": [],
   "source": []
  }
 ],
 "metadata": {
  "kernelspec": {
   "display_name": "base",
   "language": "python",
   "name": "python3"
  },
  "language_info": {
   "codemirror_mode": {
    "name": "ipython",
    "version": 3
   },
   "file_extension": ".py",
   "mimetype": "text/x-python",
   "name": "python",
   "nbconvert_exporter": "python",
   "pygments_lexer": "ipython3",
   "version": "3.12.2"
  }
 },
 "nbformat": 4,
 "nbformat_minor": 4
}
