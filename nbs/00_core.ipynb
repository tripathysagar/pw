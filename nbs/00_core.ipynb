{
 "cells": [
  {
   "cell_type": "markdown",
   "metadata": {},
   "source": [
    "# core\n",
    "\n",
    "> Seting up playwright and other various attributes of its object Like `Page` and `Locators`"
   ]
  },
  {
   "cell_type": "code",
   "execution_count": null,
   "metadata": {},
   "outputs": [],
   "source": [
    "#| default_exp core"
   ]
  },
  {
   "cell_type": "code",
   "execution_count": null,
   "metadata": {},
   "outputs": [],
   "source": [
    "#| hide\n",
    "%load_ext autoreload\n",
    "%autoreload 2\n",
    "from nbdev.showdoc import *"
   ]
  },
  {
   "cell_type": "code",
   "execution_count": null,
   "metadata": {},
   "outputs": [],
   "source": [
    "#| export\n",
    "from playwright.async_api import  *\n",
    "from playwright_stealth import stealth_async\n",
    "from typing import AsyncIterator, List, Tuple, Optional\n",
    "from contextlib import asynccontextmanager\n",
    "from dataclasses import dataclass\n",
    "from fastcore.all import *  # For delegates\n",
    "from fastcore.utils import *  # For log_args\n",
    "from fastcore.xtras import * \n",
    "import traceback\n",
    "from datetime import datetime\n",
    "from functools import partialmethod\n",
    "from html2text import HTML2Text"
   ]
  },
  {
   "cell_type": "code",
   "execution_count": null,
   "metadata": {},
   "outputs": [],
   "source": [
    "#| export \n",
    "from functools import wraps\n",
    "import asyncio\n",
    "\n",
    "def retry_async(max_retries:int=3, backoff_base:float=1.5):\n",
    "    \"\"\"\n",
    "    Decorator for retrying an asynchronous function upon exception.\n",
    "    Retries the execution of an async function a specified number of times \n",
    "    (`max_retries`) with an exponential backoff delay between attempts (`backoff_base`).\n",
    "    If all attempts fail, the exception from the last attempt is raised.\n",
    "    \"\"\"\n",
    "    def _retry(func):\n",
    "        @wraps(func)\n",
    "        async def wrapper(*args, **kwargs):\n",
    "            for attempt in range(max_retries):\n",
    "                try: return await func(*args, **kwargs)\n",
    "                except Exception as e:\n",
    "                    if attempt == max_retries - 1: raise e\n",
    "                    await asyncio.sleep(backoff_base ** attempt)\n",
    "        return wrapper\n",
    "    return _retry"
   ]
  },
  {
   "cell_type": "markdown",
   "metadata": {},
   "source": [
    "## setup_browser\n",
    "Setup browser by opening up chrome and all the other objects"
   ]
  },
  {
   "cell_type": "code",
   "execution_count": null,
   "metadata": {},
   "outputs": [],
   "source": [
    "#| export \n",
    "@dataclass\n",
    "class BrowserResources:\n",
    "    pw_obj: Optional[Playwright] = None\n",
    "    brow: Optional[Browser] = None\n",
    "    ctx: Optional[BrowserContext] = None\n",
    "    pages: List[Page] = None\n",
    "    is_valid: bool = False # for error handling\n",
    "\n",
    "class PageCreationError(Exception): pass #Raised when a page fails to be created\n",
    "class BrowserCleanupError(Exception): pass #Raised when browser resources fail to cleanup\n",
    "\n",
    "@asynccontextmanager\n",
    "async def setup_browser(*args, n: int = 1, stealth: bool = False, **kwargs) -> AsyncIterator[BrowserResources]:\n",
    "    \"\"\"Browser context manager returns n pages and stealth for mode\"\"\"\n",
    "    obj = BrowserResources()\n",
    "    try:\n",
    "        if n <= 0:\n",
    "            raise ValueError(f\"Invalid number of pages: {n}\")\n",
    "        \n",
    "        obj.pw_obj = await async_playwright().start()\n",
    "        obj.brow = await obj.pw_obj.chromium.launch(*args, **kwargs)\n",
    "        obj.ctx = await obj.brow.new_context(\n",
    "            ignore_https_errors=True,\n",
    "            bypass_csp=True,\n",
    "            accept_downloads=True,\n",
    "            storage_state={'cookies': [], 'origins': []})\n",
    "        obj.pages = []\n",
    "        \n",
    "        for _ in range(n):\n",
    "            try:\n",
    "                pg = await obj.ctx.new_page()\n",
    "                if stealth: await stealth_async(pg)\n",
    "                obj.pages.append(pg)\n",
    "            except Exception as e:\n",
    "                raise PageCreationError(f\"Failed to create page {_}\")\n",
    "                \n",
    "        obj.is_valid = True\n",
    "        yield obj\n",
    "        \n",
    "    except Exception as e: raise e\n",
    "        \n",
    "    finally:\n",
    "        try:\n",
    "            if obj.pages:\n",
    "                for pg in obj.pages:\n",
    "                    await pg.close()\n",
    "            if obj.ctx: await obj.ctx.close()\n",
    "            if obj.brow: await obj.brow.close()\n",
    "            if obj.pw_obj: await obj.pw_obj.stop()\n",
    "        except Exception as e:\n",
    "            raise BrowserCleanupError(f\"Failed to cleanup browser resources: {str(e)}\")"
   ]
  },
  {
   "cell_type": "code",
   "execution_count": null,
   "metadata": {},
   "outputs": [],
   "source": [
    "try:\n",
    "        async with setup_browser(n=0, stealth=False) as obj:\n",
    "                if obj.is_valid:\n",
    "                        ...\n",
    "except ValueError as e:\n",
    "        assert str(e) == \"Invalid number of pages: 0\""
   ]
  },
  {
   "cell_type": "code",
   "execution_count": null,
   "metadata": {},
   "outputs": [],
   "source": [
    "async with setup_browser(n=1, stealth=False) as obj:\n",
    "        if obj.is_valid:\n",
    "            pg = await obj.pages[0].goto('http://example.org')\n",
    "            assert  pg.status == 200"
   ]
  },
  {
   "cell_type": "markdown",
   "metadata": {},
   "source": [
    "## Page's Monkey patching "
   ]
  },
  {
   "cell_type": "code",
   "execution_count": null,
   "metadata": {},
   "outputs": [],
   "source": [
    "#| export\n",
    "async def _page_ready(page: Page, pause=50, timeout=5000):\n",
    "    \"\"\"Wait until main content of page is ready\"\"\"\n",
    "    await page.wait_for_load_state('domcontentloaded')\n",
    "    await page.wait_for_load_state('networkidle')\n",
    "    await page.wait_for_timeout(pause)\n",
    "    try: \n",
    "        await page.wait_for_selector('meta', state=\"attached\", timeout=timeout)\n",
    "    except TimeoutError:\n",
    "        pass\n",
    "\n",
    "async def _frames_ready(page: Page, pause=50, timeout=5000):\n",
    "    \"\"\"Wait until all visible frames are ready\"\"\"\n",
    "    iframes = await page.query_selector_all('iframe:visible')\n",
    "    if not iframes: \n",
    "        return\n",
    "    for iframe in iframes:\n",
    "        await iframe.wait_for_element_state('visible', timeout=timeout)\n",
    "        await page.wait_for_timeout(pause)\n",
    "        frame = await iframe.content_frame()\n",
    "        if frame:\n",
    "            await frame.wait_for_load_state('domcontentloaded', timeout=timeout)\n",
    "            await frame.wait_for_load_state('networkidle', timeout=timeout)\n",
    "\n",
    "async def wait_page(page: Page, pause=50, timeout=5000):\n",
    "    \"\"\"\n",
    "    moneky patching `Page.wait_page`.\n",
    "    Wait until page and frames are ready to be loaded\n",
    "    \"\"\"\n",
    "    await _page_ready(page, pause, timeout)\n",
    "    await _frames_ready(page, pause, timeout)\n",
    "\n",
    "Page.wait = partialmethod(wait_page)"
   ]
  },
  {
   "cell_type": "markdown",
   "metadata": {},
   "source": [
    "##  "
   ]
  },
  {
   "cell_type": "code",
   "execution_count": null,
   "metadata": {},
   "outputs": [],
   "source": [
    "async with setup_browser(n=1, headless=True) as obj:\n",
    "        if obj.is_valid:\n",
    "                pg = await obj.pages[0].goto('http://example.org')\n",
    "                await obj.pages[0].wait()\n",
    "                assert  pg.status == 200"
   ]
  },
  {
   "cell_type": "code",
   "execution_count": null,
   "metadata": {},
   "outputs": [],
   "source": [
    "#| export \n",
    "async def find_ele(page: Page, locator: str)->Optional[List[Locator]]:\n",
    "    \"\"\"\n",
    "    To locate elements on a web page using a given locator and return a list of those elements. \n",
    "    Logs error if the  `locator` object is not present and returns `None`.\n",
    "    \"\"\"\n",
    "    try:\n",
    "        elements = await page.locator(locator).all()\n",
    "        if elements: return elements\n",
    "        \n",
    "        raise ValueError(f\"Element not found.\")\n",
    "            \n",
    "    except Exception as e:\n",
    "        print(f\"Error find : @{page.url}  for {locator} :->  {e}  \")\n",
    "    return None\n",
    "\n",
    "Page.find_ele = partialmethod(find_ele)"
   ]
  },
  {
   "cell_type": "code",
   "execution_count": null,
   "metadata": {},
   "outputs": [
    {
     "name": "stdout",
     "output_type": "stream",
     "text": [
      "Error find : @https://nbdev.fast.ai/  for //span[contains(text(), 'blah')] :->  Element not found.  \n"
     ]
    }
   ],
   "source": [
    "async with setup_browser(n=1, headless=True) as obj:\n",
    "    if obj.is_valid:\n",
    "        await obj.pages[0].goto('https://nbdev.fast.ai/')\n",
    "        await obj.pages[0].wait()\n",
    "        assert len(await obj.pages[0].find_ele(\"//span[contains(text(), 'Blog')]\") ) != 0\n",
    "        assert await obj.pages[0].find_ele(\"//span[contains(text(), 'blah')]\") is None"
   ]
  },
  {
   "cell_type": "code",
   "execution_count": null,
   "metadata": {},
   "outputs": [],
   "source": [
    "#| export \n",
    "from  urllib.parse import unquote\n",
    "LINK_SELECTORS = {\n",
    "    'a': '[href]',\n",
    "    'iframe': '[src]',\n",
    "    'frame': '[src]',\n",
    "    'embed': '[src]',\n",
    "    'object': '[data]',\n",
    "    'img': '[src]',\n",
    "    'link': '[href]',\n",
    "    'script': '[src]',\n",
    "    'area': '[href]',\n",
    "    'video': '[src]'\n",
    "}\n",
    "async def find_all_links(page: Page):\n",
    "    \n",
    "    all_elements = page.locator(', '.join(LINK_SELECTORS))\n",
    "    \n",
    "    # Get attributes\n",
    "    links = await all_elements.evaluate_all('''\n",
    "        elements => elements.map(el => ({\n",
    "            type: el.tagName.toLowerCase(),\n",
    "            url: el.href || el.src || el.data || null\n",
    "        }))\n",
    "    ''')\n",
    "    return [unquote(dic['url']) for dic in links if dic['url'] ]\n",
    "\n",
    "Page.all_links = partialmethod(find_all_links)"
   ]
  },
  {
   "cell_type": "code",
   "execution_count": null,
   "metadata": {},
   "outputs": [],
   "source": [
    "async with setup_browser(n=1, headless=True) as obj:\n",
    "        if obj.is_valid:\n",
    "            pg = obj.pages[0]\n",
    "            await pg.goto('https://nbdev.fast.ai/',timeout= 10000)\n",
    "            await pg.wait(10000)\n",
    "\n",
    "            links = await find_all_links(obj.pages[0])\n",
    "            assert type(links) == list"
   ]
  },
  {
   "cell_type": "markdown",
   "metadata": {},
   "source": [
    "## Locator's Monkey patching "
   ]
  },
  {
   "cell_type": "code",
   "execution_count": null,
   "metadata": {},
   "outputs": [],
   "source": [
    "#| export \n",
    "async def left_click(element:Locator, timeout=5000):\n",
    "    \"\"\"for a given element it performs single click operation \"\"\"\n",
    "    try:\n",
    "        await element.wait_for(state='visible', timeout=timeout)\n",
    "        await element.scroll_into_view_if_needed() # Ensure element is clickable\n",
    "        await element.click()\n",
    "        return True\n",
    "    except Exception as e:\n",
    "        print(f\"Click attempt failed: {e}\")\n",
    "    return False\n",
    "Locator.left_click = partialmethod(left_click)"
   ]
  },
  {
   "cell_type": "code",
   "execution_count": null,
   "metadata": {},
   "outputs": [],
   "source": [
    "url = 'https://solveit.fast.ai/'\n",
    "async with setup_browser(n=1, headless=False) as obj:\n",
    "    if obj.is_valid:\n",
    "        await obj.pages[0].goto(url)\n",
    "        await obj.pages[0].wait()\n",
    "        loc = await obj.pages[0].find_ele(\"//a[contains(text(), 'Course Details')]\") \n",
    "        assert len(loc) != 0\n",
    "                        \n",
    "        await loc[0].left_click()\n",
    "        assert url != obj.pages[0].url"
   ]
  },
  {
   "cell_type": "code",
   "execution_count": null,
   "metadata": {},
   "outputs": [],
   "source": [
    "#| export \n",
    "async def enter_txt(element: Locator, text: str, timeout: int = 5000) -> bool:\n",
    "    \"\"\"For a given element of type `Locator`, it types the specified text\"\"\"\n",
    "    try:\n",
    "        await element.wait_for(state='visible', timeout=timeout)\n",
    "        await element.scroll_into_view_if_needed()\n",
    "        await element.focus()\n",
    "        await element.fill('')  # Clear existing text\n",
    "        await element.fill(text)\n",
    "        return True\n",
    "    except Exception as e:\n",
    "        print(f\"Type operation failed: {e}\")\n",
    "        return False\n",
    "\n",
    "Locator.enter_txt = partialmethod(enter_txt)"
   ]
  },
  {
   "cell_type": "code",
   "execution_count": null,
   "metadata": {},
   "outputs": [],
   "source": [
    "async with setup_browser(n=1, headless=True) as obj:\n",
    "    if obj.is_valid:\n",
    "        await obj.pages[0].goto('https://nbdev.fast.ai/')\n",
    "        await obj.pages[0].wait()\n",
    "        loc = await obj.pages[0].find_ele(\"//button[1]\") \n",
    "        assert len(loc) != 0\n",
    "                        \n",
    "        await loc[0].left_click()\n",
    "        await obj.pages[0].wait()\n",
    "        inp =  await obj.pages[0].find_ele(\"//input\") \n",
    "        await inp[0].left_click()\n",
    "        await inp[0].enter_txt(\"type_text\")\n",
    "\n",
    "        assert  await inp[0].input_value() == \"type_text\""
   ]
  },
  {
   "cell_type": "code",
   "execution_count": null,
   "metadata": {},
   "outputs": [],
   "source": [
    "#| export \n",
    "async def get_text(element: Locator, timeout: int = 5000) -> Optional[str]:\n",
    "    \"\"\"Gets the text content of an `Locator` element\"\"\"\n",
    "    try:\n",
    "        await element.wait_for(state='visible', timeout=timeout)\n",
    "        return await element.text_content()\n",
    "    except Exception as e:\n",
    "        print(f\"Get text failed: {e}\")\n",
    "        return None\n",
    "\n",
    "Locator.get_text = partialmethod(get_text)"
   ]
  },
  {
   "cell_type": "code",
   "execution_count": null,
   "metadata": {},
   "outputs": [],
   "source": [
    "async with setup_browser(n=1, headless=True) as obj:\n",
    "    if obj.is_valid:\n",
    "        await obj.pages[0].goto('https://nbdev.fast.ai/')\n",
    "        await obj.pages[0].wait()\n",
    "        loc = await obj.pages[0].find_ele('//a[@role=\"button\"][1]') \n",
    "        assert len(loc) != 0\n",
    "                        \n",
    "        assert await loc[0].get_text() == \"Get started\""
   ]
  },
  {
   "cell_type": "code",
   "execution_count": 1,
   "metadata": {},
   "outputs": [
    {
     "name": "stderr",
     "output_type": "stream",
     "text": [
      "/root/miniconda3/lib/python3.12/site-packages/nbdev/export.py:87: UserWarning: Notebook '/home/sagar/git/pw/nbs/03_other_cbs.ipynb' uses `#|export` without `#|default_exp` cell.\n",
      "Note nbdev2 no longer supports nbdev1 syntax. Run `nbdev_migrate` to upgrade.\n",
      "See https://nbdev.fast.ai/getting_started.html for more information.\n",
      "  warn(f\"Notebook '{nbname}' uses `#|export` without `#|default_exp` cell.\\n\"\n"
     ]
    }
   ],
   "source": [
    "#| hide\n",
    "import nbdev; nbdev.nbdev_export()"
   ]
  },
  {
   "cell_type": "code",
   "execution_count": null,
   "metadata": {},
   "outputs": [],
   "source": []
  }
 ],
 "metadata": {
  "kernelspec": {
   "display_name": "base",
   "language": "python",
   "name": "python3"
  },
  "language_info": {
   "codemirror_mode": {
    "name": "ipython",
    "version": 3
   },
   "file_extension": ".py",
   "mimetype": "text/x-python",
   "name": "python",
   "nbconvert_exporter": "python",
   "pygments_lexer": "ipython3",
   "version": "3.12.2"
  }
 },
 "nbformat": 4,
 "nbformat_minor": 4
}
