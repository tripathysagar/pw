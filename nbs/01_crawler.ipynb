{
 "cells": [
  {
   "cell_type": "markdown",
   "metadata": {},
   "source": [
    "# crawler\n",
    "\n",
    "> crawler with call backs"
   ]
  },
  {
   "cell_type": "code",
   "execution_count": 2,
   "metadata": {},
   "outputs": [],
   "source": [
    "#| default_exp crawler"
   ]
  },
  {
   "cell_type": "code",
   "execution_count": 3,
   "metadata": {},
   "outputs": [],
   "source": [
    "#| hide\n",
    "from nbdev.showdoc import *"
   ]
  },
  {
   "cell_type": "code",
   "execution_count": 16,
   "metadata": {},
   "outputs": [],
   "source": [
    "#| export \n",
    "from pw.core import  *\n",
    "from operator import attrgetter\n",
    "import inspect\n",
    "from fastcore.all import *\n",
    "import asyncio"
   ]
  },
  {
   "cell_type": "code",
   "execution_count": 11,
   "metadata": {},
   "outputs": [],
   "source": [
    "#| export \n",
    "#| hide\n",
    "class Callback(): order = 0\n",
    "\n",
    "async def run_cbs(cbs, method_nm, crawler=None, *args, **kwargs):\n",
    "    for cb in sorted(cbs, key=attrgetter('order')):\n",
    "        method = getattr(cb, method_nm, None)\n",
    "        if method :\n",
    "            if inspect.iscoroutinefunction(method):\n",
    "                await method(crawler, *args, **kwargs)\n",
    "            else:\n",
    "                method(crawler, *args, **kwargs)\n",
    "\n",
    "class with_cbs:\n",
    "    def __init__(self, nm): self.nm = nm\n",
    "    def __call__(self, f):\n",
    "        def _f(o, *args, **kwargs):\n",
    "            try:\n",
    "                o.callback(f'before_{self.nm}')\n",
    "                print(self.nm)\n",
    "                f(o, *args, **kwargs)\n",
    "                o.callback(f'after_{self.nm}')\n",
    "            except globals()[f'Cancel{self.nm.title()}Exception']: pass\n",
    "            finally: o.callback(f'cleanup_{self.nm}')\n",
    "        return _f"
   ]
  },
  {
   "cell_type": "code",
   "execution_count": 22,
   "metadata": {},
   "outputs": [],
   "source": [
    "#| export\n",
    "class Crawl():\n",
    "    def __init__(self, np: int = 1, to_visit: Optional[List[str]] = None, cbs=None): # type: ignore\n",
    "        self.np = np\n",
    "        self.visited = set()\n",
    "        self.unvisited = set(to_visit)\n",
    "        self.cbs = L(cbs)\n",
    "        \n",
    "    async def one_visit(self, idx):\n",
    "        page = self.pages[idx]\n",
    "        \n",
    "        await self.callback('before_visit',idx)\n",
    "        \n",
    "        await page.goto(self.visit_window[idx])\n",
    "        await page.wait()\n",
    "\n",
    "        await self.callback('after_visit', idx)\n",
    "        \n",
    "    async def run(self, headless:bool = False):\n",
    "        async with setup_browser(n=self.np, headless=headless) as obj:\n",
    "            if obj.is_valid:\n",
    "                    self.pages = obj.pages\n",
    "\n",
    "                    while self.unvisited:\n",
    "                        #print(self.unvisited, self.visited)\n",
    "                        self.visit_window = list(self.unvisited - self.visited)[:self.np] #not visited \n",
    "                        \n",
    "                        tasks = [self.one_visit(i) for i in range(len(self.visit_window)) ]\n",
    "                    \n",
    "                        await asyncio.gather(*tasks)  \n",
    "                        visited_urls = set(self.visit_window)\n",
    "                        self.unvisited.difference_update(visited_urls) # remove the urls from the to_visit\n",
    "                        self.visited.update(visited_urls)\n",
    "\n",
    "    def __getattr__(self, name):\n",
    "        if name.startswith('before_') or name.startswith('after_'): return partial(self.callback, name)\n",
    "        raise AttributeError(name)\n",
    "\n",
    "    async def callback(self, method_nm, *args, **kwargs ): \n",
    "        await run_cbs(self.cbs, method_nm, self, *args, **kwargs)          "
   ]
  },
  {
   "cell_type": "code",
   "execution_count": 29,
   "metadata": {},
   "outputs": [
    {
     "name": "stdout",
     "output_type": "stream",
     "text": [
      "__init__ \n",
      "before_visit  idx=0\n",
      "before_visit  idx=0\n",
      "before_visit  idx=0\n",
      "before_visit  idx=0\n"
     ]
    }
   ],
   "source": [
    "class CB(Callback):\n",
    "    def __init__(self):\n",
    "        print(f\"__init__ \" )\n",
    "\n",
    "    def before_visit(self, crawler, idx):\n",
    "        print(f\"before_visit  {idx=}\" )\n",
    "\n",
    "    def after_visit(self, crawler, idx):\n",
    "        print(f\"before_visit  {idx=}\" )\n",
    "\n",
    "C = Crawl(1, ['https://solveit.fast.ai/', 'https://fastcore.fast.ai/'], [CB()])\n",
    "await C.run(False)"
   ]
  },
  {
   "cell_type": "code",
   "execution_count": 30,
   "metadata": {},
   "outputs": [
    {
     "name": "stdout",
     "output_type": "stream",
     "text": [
      "__init__ \n",
      "before_visit  idx=0\n",
      "before_visit  idx=1\n",
      "before_visit  idx=0\n",
      "before_visit  idx=1\n"
     ]
    }
   ],
   "source": [
    "C = Crawl(2, ['https://solveit.fast.ai/', 'https://fastcore.fast.ai/'], [CB()])\n",
    "await C.run(False)"
   ]
  },
  {
   "cell_type": "code",
   "execution_count": 31,
   "metadata": {},
   "outputs": [],
   "source": [
    "#| hide\n",
    "import nbdev; nbdev.nbdev_export()"
   ]
  },
  {
   "cell_type": "code",
   "execution_count": null,
   "metadata": {},
   "outputs": [],
   "source": []
  }
 ],
 "metadata": {
  "kernelspec": {
   "display_name": "base",
   "language": "python",
   "name": "python3"
  },
  "language_info": {
   "codemirror_mode": {
    "name": "ipython",
    "version": 3
   },
   "file_extension": ".py",
   "mimetype": "text/x-python",
   "name": "python",
   "nbconvert_exporter": "python",
   "pygments_lexer": "ipython3",
   "version": "3.12.2"
  }
 },
 "nbformat": 4,
 "nbformat_minor": 2
}
