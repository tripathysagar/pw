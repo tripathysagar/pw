{
 "cells": [
  {
   "cell_type": "code",
   "execution_count": null,
   "metadata": {},
   "outputs": [],
   "source": [
    "#| hide\n",
    "from pw.core import *"
   ]
  },
  {
   "cell_type": "markdown",
   "metadata": {},
   "source": [
    "# pw\n",
    "\n",
    "> playwright"
   ]
  },
  {
   "cell_type": "markdown",
   "metadata": {},
   "source": [
    "# Web Crawler with Callback System\n",
    "\n",
    "This crawler implements a flexible web scraping system with callback hooks for extensibility, inspired by fastai's [callback system](https://docs.fast.ai/callback.core.html). The lib is motivated by AnswerDotAI [playwrightnb](https://github.com/AnswerDotAI/playwrightnb/blob/main/00_core.ipynb). It achives by running etraction on multiple pages in single browser window.<br>\n",
    "![image](flow.png)"
   ]
  },
  {
   "cell_type": "markdown",
   "metadata": {},
   "source": [
    "## Developer Guide"
   ]
  },
  {
   "cell_type": "markdown",
   "metadata": {},
   "source": [
    "If you are new to using `nbdev` here are some useful pointers to get you started."
   ]
  },
  {
   "cell_type": "markdown",
   "metadata": {},
   "source": [
    "### Install pw in Development mode"
   ]
  },
  {
   "cell_type": "markdown",
   "metadata": {},
   "source": [
    "```sh\n",
    "# make sure pw package is installed in development mode\n",
    "$ pip install -e .\n",
    "\n",
    "# make changes under nbs/ directory\n",
    "# ...\n",
    "\n",
    "# compile to have changes apply to pw\n",
    "$ nbdev_prepare\n",
    "```"
   ]
  },
  {
   "cell_type": "markdown",
   "metadata": {},
   "source": [
    "## Usage"
   ]
  },
  {
   "cell_type": "markdown",
   "metadata": {},
   "source": [
    "### Installation"
   ]
  },
  {
   "cell_type": "markdown",
   "metadata": {},
   "source": [
    "Install latest from the GitHub [repository][repo]:\n",
    "\n",
    "```sh\n",
    "$ pip install git+https://github.com/tripathysagar/pw.git\n",
    "```\n",
    "\n",
    "or from [conda][conda]\n",
    "\n",
    "```sh\n",
    "$ conda install -c tripathysagar pw\n",
    "```\n",
    "\n",
    "or from [pypi][pypi]\n",
    "\n",
    "\n",
    "```sh\n",
    "$ pip install pw\n",
    "```\n",
    "\n",
    "\n",
    "[repo]: https://github.com/tripathysagar/pw\n",
    "[docs]: https://tripathysagar.github.io/pw/\n",
    "[pypi]: https://pypi.org/project/pw/\n",
    "[conda]: https://anaconda.org/tripathysagar/pw"
   ]
  },
  {
   "cell_type": "markdown",
   "metadata": {},
   "source": [
    "### Documentation"
   ]
  },
  {
   "cell_type": "markdown",
   "metadata": {},
   "source": [
    "Documentation can be found hosted on this GitHub [repository][repo]'s [pages][docs]. Additionally you can find package manager specific guidelines on [conda][conda] and [pypi][pypi] respectively.\n",
    "\n",
    "[repo]: https://github.com/tripathysagar/pw\n",
    "[docs]: https://tripathysagar.github.io/pw/\n",
    "[pypi]: https://pypi.org/project/pw/\n",
    "[conda]: https://anaconda.org/tripathysagar/pw"
   ]
  },
  {
   "cell_type": "markdown",
   "metadata": {},
   "source": [
    "## How to use"
   ]
  },
  {
   "cell_type": "markdown",
   "metadata": {},
   "source": [
    "Few other examples are in [crawler](crawler.html)"
   ]
  },
  {
   "cell_type": "code",
   "execution_count": null,
   "metadata": {},
   "outputs": [],
   "source": [
    "from pw.crawler import *\n",
    "class GetTextCB(Callback):\n",
    "    async def after_visit(self, crawler, idx):\n",
    "        if crawler.pages[idx].url == 'https://fastcore.fast.ai/':\n",
    "            loc = await crawler.pages[idx].find_ele('//span[contains(text(), \"Welcome to fastcore\")]')\n",
    "            if loc:\n",
    "                assert await loc[0].get_text() == \"Welcome to fastcore\"\n",
    "\n",
    "C = Crawl(2, ['https://solveit.fast.ai/', 'https://fastcore.fast.ai/'], [GetTextCB()])\n",
    "await C.run(headless=False)"
   ]
  }
 ],
 "metadata": {
  "kernelspec": {
   "display_name": "python3",
   "language": "python",
   "name": "python3"
  }
 },
 "nbformat": 4,
 "nbformat_minor": 4
}
